{
  "nbformat": 4,
  "nbformat_minor": 0,
  "metadata": {
    "colab": {
      "name": "Practica3Simulacion.ipynb",
      "provenance": [],
      "collapsed_sections": [],
      "authorship_tag": "ABX9TyMkLixqeV8CmIEI2JXAePSx",
      "include_colab_link": true
    },
    "kernelspec": {
      "name": "python3",
      "display_name": "Python 3"
    },
    "language_info": {
      "name": "python"
    }
  },
  "cells": [
    {
      "cell_type": "markdown",
      "metadata": {
        "id": "view-in-github",
        "colab_type": "text"
      },
      "source": [
        "<a href=\"https://colab.research.google.com/github/gorbo96/Simulacion/blob/main/Practica3Simulacion.ipynb\" target=\"_parent\"><img src=\"https://colab.research.google.com/assets/colab-badge.svg\" alt=\"Open In Colab\"/></a>"
      ]
    },
    {
      "cell_type": "code",
      "execution_count": 1,
      "metadata": {
        "id": "XSDs7fREn2rk",
        "colab": {
          "base_uri": "https://localhost:8080/"
        },
        "outputId": "d3e13ee5-33cd-4d4d-a6ee-1ce797f0eb0b"
      },
      "outputs": [
        {
          "output_type": "execute_result",
          "data": {
            "text/plain": [
              "[1, 0, 1, 0, 0, 0, 0, 1, 0, 0, 1, 0]"
            ]
          },
          "metadata": {},
          "execution_count": 1
        }
      ],
      "source": [
        "cantidad=3\n",
        "tamano=4\n",
        "h=3\n",
        "cadena=[1,0,1,0,0]\n",
        "q=len(cadena)\n",
        "contador1=q-h\n",
        "contador2=0\n",
        "for numero in range((cantidad*tamano)-q):\n",
        "  cadena.append(cadena[contador1]^cadena[contador2])\n",
        "  contador1+=1\n",
        "  contador2+=1\n",
        "cadena"
      ]
    },
    {
      "cell_type": "code",
      "source": [
        "for orden in range(0,(cantidad*tamano),tamano):\n",
        "  aux=tamano-1\n",
        "  numero=0\n",
        "  for indice in range(orden,(orden+tamano),1):\n",
        "    numero+=pow(2,aux)*cadena[indice]\n",
        "    aux-=1\n",
        "  print(numero/(pow(2,tamano)))"
      ],
      "metadata": {
        "colab": {
          "base_uri": "https://localhost:8080/"
        },
        "id": "O_xbZbAlitX1",
        "outputId": "bc850949-0d36-4b74-b102-c182a20dd6a2"
      },
      "execution_count": 2,
      "outputs": [
        {
          "output_type": "stream",
          "name": "stdout",
          "text": [
            "0.625\n",
            "0.0625\n",
            "0.125\n"
          ]
        }
      ]
    }
  ]
}