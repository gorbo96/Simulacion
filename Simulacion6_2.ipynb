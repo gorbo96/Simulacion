{
  "nbformat": 4,
  "nbformat_minor": 0,
  "metadata": {
    "colab": {
      "name": "Simulacion6.2.ipynb",
      "provenance": [],
      "collapsed_sections": [],
      "authorship_tag": "ABX9TyOIot6en7IVTSBcVQS4u628",
      "include_colab_link": true
    },
    "kernelspec": {
      "name": "python3",
      "display_name": "Python 3"
    },
    "language_info": {
      "name": "python"
    }
  },
  "cells": [
    {
      "cell_type": "markdown",
      "metadata": {
        "id": "view-in-github",
        "colab_type": "text"
      },
      "source": [
        "<a href=\"https://colab.research.google.com/github/gorbo96/Simulacion/blob/main/Simulacion6_2.ipynb\" target=\"_parent\"><img src=\"https://colab.research.google.com/assets/colab-badge.svg\" alt=\"Open In Colab\"/></a>"
      ]
    },
    {
      "cell_type": "markdown",
      "source": [
        "# Librerias"
      ],
      "metadata": {
        "id": "VkfdE3RUCI-4"
      }
    },
    {
      "cell_type": "code",
      "execution_count": 1,
      "metadata": {
        "id": "0HQzgtsoYnGb"
      },
      "outputs": [],
      "source": [
        "from scipy import stats\n",
        "import matplotlib.pyplot as plt\n",
        "import numpy as np\n",
        "import pandas as pd\n",
        "import os"
      ]
    },
    {
      "cell_type": "markdown",
      "source": [
        "## Metodo de Cuadrados medios"
      ],
      "metadata": {
        "id": "wUckIBr4CNTX"
      }
    },
    {
      "cell_type": "code",
      "source": [
        "digitos = 6\n",
        "aleatorioscuadrado = []\n",
        "x0 = 7363423178943\n",
        "xn = x0\n",
        "for i in range(100):\n",
        "  xs = xn**2\n",
        "  aux = str(xs).zfill(8)\n",
        "  tam = len(aux)\n",
        "  ui = int(aux[int(tam/2-digitos/2):int(tam/2+digitos/2)])\n",
        "  rn = ui / (int('9'*digitos)+1)\n",
        "  aleatorioscuadrado.append(rn)\n",
        "  xn = ui"
      ],
      "metadata": {
        "id": "RhZ9WpHiavJ-"
      },
      "execution_count": 2,
      "outputs": []
    },
    {
      "cell_type": "code",
      "source": [
        "aleatorioscuadrado"
      ],
      "metadata": {
        "colab": {
          "base_uri": "https://localhost:8080/"
        },
        "id": "Fsy8Trywa34M",
        "outputId": "bd683604-8491-49b2-df78-23cbd6c88d12"
      },
      "execution_count": 3,
      "outputs": [
        {
          "output_type": "execute_result",
          "data": {
            "text/plain": [
              "[0.219503,\n",
              " 0.181567,\n",
              " 0.966575,\n",
              " 0.26723,\n",
              " 0.411872,\n",
              " 0.638544,\n",
              " 0.738439,\n",
              " 0.292156,\n",
              " 0.355128,\n",
              " 0.115896,\n",
              " 0.431882,\n",
              " 0.522061,\n",
              " 0.547687,\n",
              " 0.961049,\n",
              " 0.61518,\n",
              " 0.446432,\n",
              " 0.30153,\n",
              " 0.92034,\n",
              " 0.025715,\n",
              " 0.612612,\n",
              " 0.293462,\n",
              " 0.119945,\n",
              " 0.386803,\n",
              " 0.61656,\n",
              " 0.146233,\n",
              " 0.38409,\n",
              " 0.525128,\n",
              " 0.759416,\n",
              " 0.712661,\n",
              " 0.8857,\n",
              " 0.46449,\n",
              " 0.75096,\n",
              " 0.940921,\n",
              " 0.332328,\n",
              " 0.441899,\n",
              " 0.274726,\n",
              " 0.474375,\n",
              " 0.03164,\n",
              " 0.010896,\n",
              " 0.187228,\n",
              " 0.054323,\n",
              " 0.509883,\n",
              " 0.980673,\n",
              " 0.719532,\n",
              " 0.726299,\n",
              " 0.510237,\n",
              " 0.341796,\n",
              " 0.824505,\n",
              " 0.808495,\n",
              " 0.664165,\n",
              " 0.115147,\n",
              " 0.258831,\n",
              " 0.993486,\n",
              " 0.014432,\n",
              " 0.082826,\n",
              " 0.601462,\n",
              " 0.756537,\n",
              " 0.348232,\n",
              " 0.265525,\n",
              " 0.503525,\n",
              " 0.537425,\n",
              " 0.82563,\n",
              " 0.664896,\n",
              " 0.08669,\n",
              " 0.151561,\n",
              " 0.970736,\n",
              " 0.328381,\n",
              " 0.834081,\n",
              " 0.691114,\n",
              " 0.63856,\n",
              " 0.758873,\n",
              " 0.88823,\n",
              " 0.952532,\n",
              " 0.317211,\n",
              " 0.622818,\n",
              " 0.902261,\n",
              " 0.074912,\n",
              " 0.118077,\n",
              " 0.942177,\n",
              " 0.697499,\n",
              " 0.504855,\n",
              " 0.878571,\n",
              " 0.887002,\n",
              " 0.772548,\n",
              " 0.830412,\n",
              " 0.584089,\n",
              " 0.159959,\n",
              " 0.586881,\n",
              " 0.429308,\n",
              " 0.305358,\n",
              " 0.243508,\n",
              " 0.296146,\n",
              " 0.702453,\n",
              " 0.440217,\n",
              " 0.791007,\n",
              " 0.692074,\n",
              " 0.966421,\n",
              " 0.969549,\n",
              " 0.025263,\n",
              " 0.382191]"
            ]
          },
          "metadata": {},
          "execution_count": 3
        }
      ]
    },
    {
      "cell_type": "markdown",
      "source": [
        "## Metodo Urand"
      ],
      "metadata": {
        "id": "qRT3r5y4CT2X"
      }
    },
    {
      "cell_type": "code",
      "source": [
        "aux=os.urandom(100)"
      ],
      "metadata": {
        "id": "VZlXFUjrhFIs"
      },
      "execution_count": 4,
      "outputs": []
    },
    {
      "cell_type": "code",
      "source": [
        "aleatoriosrand=[]\n",
        "for indice in range(100):\n",
        "  aleatoriosrand.append(aux[indice]/(2**8))\n",
        "aleatoriosrand"
      ],
      "metadata": {
        "colab": {
          "base_uri": "https://localhost:8080/"
        },
        "id": "leqhAZRJjAE8",
        "outputId": "141120c0-1bfa-4fef-9de0-1ce7692777d2"
      },
      "execution_count": 5,
      "outputs": [
        {
          "output_type": "execute_result",
          "data": {
            "text/plain": [
              "[0.7578125,\n",
              " 0.125,\n",
              " 0.11328125,\n",
              " 0.75,\n",
              " 0.07421875,\n",
              " 0.1171875,\n",
              " 0.3828125,\n",
              " 0.15625,\n",
              " 0.26953125,\n",
              " 0.28515625,\n",
              " 0.17578125,\n",
              " 0.046875,\n",
              " 0.83984375,\n",
              " 0.62109375,\n",
              " 0.83984375,\n",
              " 0.26953125,\n",
              " 0.81640625,\n",
              " 0.41015625,\n",
              " 0.234375,\n",
              " 0.921875,\n",
              " 0.8671875,\n",
              " 0.66796875,\n",
              " 0.7109375,\n",
              " 0.83203125,\n",
              " 0.08203125,\n",
              " 0.6171875,\n",
              " 0.30859375,\n",
              " 0.5546875,\n",
              " 0.3203125,\n",
              " 0.21875,\n",
              " 0.84375,\n",
              " 0.484375,\n",
              " 0.2421875,\n",
              " 0.953125,\n",
              " 0.37890625,\n",
              " 0.14453125,\n",
              " 0.71484375,\n",
              " 0.2890625,\n",
              " 0.8359375,\n",
              " 0.93359375,\n",
              " 0.48828125,\n",
              " 0.42578125,\n",
              " 0.21875,\n",
              " 0.3203125,\n",
              " 0.828125,\n",
              " 0.3359375,\n",
              " 0.23046875,\n",
              " 0.52734375,\n",
              " 0.98828125,\n",
              " 0.27734375,\n",
              " 0.2890625,\n",
              " 0.25,\n",
              " 0.20703125,\n",
              " 0.703125,\n",
              " 0.59375,\n",
              " 0.75390625,\n",
              " 0.19140625,\n",
              " 0.2890625,\n",
              " 0.26953125,\n",
              " 0.46875,\n",
              " 0.5234375,\n",
              " 0.86328125,\n",
              " 0.453125,\n",
              " 0.09375,\n",
              " 0.7890625,\n",
              " 0.9609375,\n",
              " 0.90625,\n",
              " 0.40234375,\n",
              " 0.0546875,\n",
              " 0.49609375,\n",
              " 0.72265625,\n",
              " 0.671875,\n",
              " 0.2109375,\n",
              " 0.0234375,\n",
              " 0.7890625,\n",
              " 0.234375,\n",
              " 0.12890625,\n",
              " 0.5,\n",
              " 0.46875,\n",
              " 0.49609375,\n",
              " 0.32421875,\n",
              " 0.87890625,\n",
              " 0.70703125,\n",
              " 0.30078125,\n",
              " 0.91015625,\n",
              " 0.265625,\n",
              " 0.2578125,\n",
              " 0.49609375,\n",
              " 0.36328125,\n",
              " 0.0703125,\n",
              " 0.41015625,\n",
              " 0.984375,\n",
              " 0.375,\n",
              " 0.4375,\n",
              " 0.62109375,\n",
              " 0.640625,\n",
              " 0.4765625,\n",
              " 0.18359375,\n",
              " 0.64453125,\n",
              " 0.03125]"
            ]
          },
          "metadata": {},
          "execution_count": 5
        }
      ]
    },
    {
      "cell_type": "markdown",
      "source": [
        "## Metodo productos medios"
      ],
      "metadata": {
        "id": "sG_7ppLgCqM-"
      }
    },
    {
      "cell_type": "code",
      "source": [
        "aleatoriosproductos=[]\n",
        "def medios(x, d): \n",
        "    mitad = int(len(x)/2)\n",
        "    y = int(d/2)\n",
        "    if ((d%2)!=0 and len(x)%2!=0):      \n",
        "      segundo = int(mitad+y)+1\n",
        "      primero = int(mitad-y)      \n",
        "    else:      \n",
        "      segundo = int(mitad+y)\n",
        "      primero = int(mitad-y)            \n",
        "    return x[primero:segundo]\n",
        "xp=7363423178943\n",
        "xs=1324356789532\n",
        "for i in range(100):\n",
        "  aux = str(xp*xs)\n",
        "  xt = int(medios(aux, 7))\n",
        "  aleatoriosproductos.append(float(\"0.\"+str(xt)))\n",
        "  xp=xs\n",
        "  xs=xt"
      ],
      "metadata": {
        "id": "6Jxeql6jpW3F"
      },
      "execution_count": 6,
      "outputs": []
    },
    {
      "cell_type": "code",
      "source": [
        "aleatoriosproductos"
      ],
      "metadata": {
        "colab": {
          "base_uri": "https://localhost:8080/"
        },
        "id": "m-laA3lWzo4f",
        "outputId": "a7cd7ba2-6a97-4d59-f409-ca9bd6d44af5"
      },
      "execution_count": 7,
      "outputs": [
        {
          "output_type": "execute_result",
          "data": {
            "text/plain": [
              "[0.1230465,\n",
              " 0.4677031,\n",
              " 0.4922949,\n",
              " 0.478508,\n",
              " 0.567048,\n",
              " 0.3370043,\n",
              " 0.976143,\n",
              " 0.9643884,\n",
              " 0.3809859,\n",
              " 0.183825,\n",
              " 0.34733,\n",
              " 0.8479372,\n",
              " 0.5140276,\n",
              " 0.631238,\n",
              " 0.4737541,\n",
              " 0.515905,\n",
              " 0.4121089,\n",
              " 0.609042,\n",
              " 0.916286,\n",
              " 0.56658,\n",
              " 0.149321,\n",
              " 0.6022921,\n",
              " 0.348586,\n",
              " 0.9505939,\n",
              " 0.3637252,\n",
              " 0.549563,\n",
              " 0.889912,\n",
              " 0.627084,\n",
              " 0.495766,\n",
              " 0.886926,\n",
              " 0.707755,\n",
              " 0.726311,\n",
              " 0.50241,\n",
              " 0.4905909,\n",
              " 0.477774,\n",
              " 0.3915766,\n",
              " 0.851184,\n",
              " 0.3037366,\n",
              " 0.5357341,\n",
              " 0.22054,\n",
              " 0.1507984,\n",
              " 0.570791,\n",
              " 0.743695,\n",
              " 0.494412,\n",
              " 0.691732,\n",
              " 0.601,\n",
              " 0.1573093,\n",
              " 0.4542889,\n",
              " 0.6386885,\n",
              " 0.490961,\n",
              " 0.5711446,\n",
              " 0.4097239,\n",
              " 0.115929,\n",
              " 0.98882,\n",
              " 0.632913,\n",
              " 0.837032,\n",
              " 0.768434,\n",
              " 0.203847,\n",
              " 0.642965,\n",
              " 0.66486,\n",
              " 0.7481709,\n",
              " 0.428904,\n",
              " 0.8934916,\n",
              " 0.2221212,\n",
              " 0.634263,\n",
              " 0.8832586,\n",
              " 0.2182494,\n",
              " 0.706594,\n",
              " 0.2137165,\n",
              " 0.107966,\n",
              " 0.741156,\n",
              " 0.196486,\n",
              " 0.626777,\n",
              " 0.152905,\n",
              " 0.8373371,\n",
              " 0.330292,\n",
              " 0.5657454,\n",
              " 0.8611796,\n",
              " 0.83972,\n",
              " 0.149733,\n",
              " 0.5733794,\n",
              " 0.538177,\n",
              " 0.5796053,\n",
              " 0.9302415,\n",
              " 0.729036,\n",
              " 0.1795421,\n",
              " 0.8926544,\n",
              " 0.690455,\n",
              " 0.3376937,\n",
              " 0.1623036,\n",
              " 0.89032,\n",
              " 0.5021411,\n",
              " 0.662641,\n",
              " 0.7392806,\n",
              " 0.877636,\n",
              " 0.192686,\n",
              " 0.1081702,\n",
              " 0.428831,\n",
              " 0.86735,\n",
              " 0.946567]"
            ]
          },
          "metadata": {},
          "execution_count": 7
        }
      ]
    },
    {
      "cell_type": "markdown",
      "source": [
        "## AutoCorrelacion para metodo productos medios"
      ],
      "metadata": {
        "id": "Pq2iWIrdCumy"
      }
    },
    {
      "cell_type": "code",
      "source": [
        "productos=pd.Series(aleatoriosproductos)"
      ],
      "metadata": {
        "id": "WzI1IbEl95N8"
      },
      "execution_count": 8,
      "outputs": []
    },
    {
      "cell_type": "code",
      "source": [
        "lag=[]\n",
        "autocorr=[]\n",
        "for i in range(2,98,1):\n",
        "  if(productos.autocorr(lag=i)<=0.025 and productos.autocorr(lag=i)>=-0.025):\n",
        "    lag.append(i)\n",
        "    autocorr.append(productos.autocorr(lag=i))"
      ],
      "metadata": {
        "id": "Vn1HY_fk-XZK"
      },
      "execution_count": 9,
      "outputs": []
    },
    {
      "cell_type": "code",
      "source": [
        "autocorr"
      ],
      "metadata": {
        "colab": {
          "base_uri": "https://localhost:8080/"
        },
        "id": "sHxj6ZIi_wt7",
        "outputId": "46c7ed9b-d488-4d7e-ea85-a5cf4a781049"
      },
      "execution_count": 10,
      "outputs": [
        {
          "output_type": "execute_result",
          "data": {
            "text/plain": [
              "[0.011220859909387114,\n",
              " 0.008660502332387347,\n",
              " -0.009774334509540695,\n",
              " 0.012550148055698863,\n",
              " -0.006312664511150802,\n",
              " -0.024543274802340937,\n",
              " 0.01991499134211978,\n",
              " -0.011205307223567787,\n",
              " 0.022322794739788276,\n",
              " 0.00750457637950343,\n",
              " -0.02339545020092837,\n",
              " 0.018698923426380056,\n",
              " -0.011886009608667798,\n",
              " -0.019978486078419132,\n",
              " 0.022188959077685196,\n",
              " 0.0009464411281129008]"
            ]
          },
          "metadata": {},
          "execution_count": 10
        }
      ]
    },
    {
      "cell_type": "code",
      "source": [
        "lag"
      ],
      "metadata": {
        "colab": {
          "base_uri": "https://localhost:8080/"
        },
        "id": "t2mD2JbmAPFB",
        "outputId": "6200920b-f8bc-46ed-d844-f2ec9b3b7863"
      },
      "execution_count": 11,
      "outputs": [
        {
          "output_type": "execute_result",
          "data": {
            "text/plain": [
              "[7, 19, 20, 23, 25, 34, 37, 41, 44, 52, 58, 64, 65, 70, 72, 73]"
            ]
          },
          "metadata": {},
          "execution_count": 11
        }
      ]
    },
    {
      "cell_type": "markdown",
      "source": [
        "Se toman diferentes valores para el parametro lag, el cual representa el retraso de la serie para su estudio y ver en cual cumple con el requisito de estar en el rango de -0.025 y 0.025; el numero de casos en el que cumple es relativamente menor a el numero de interacciones."
      ],
      "metadata": {
        "id": "h_xDKIh3C13u"
      }
    },
    {
      "cell_type": "markdown",
      "source": [
        "## AutoCorrelacion para metodo Urand"
      ],
      "metadata": {
        "id": "8CO9thFdDSY3"
      }
    },
    {
      "cell_type": "code",
      "source": [
        "urand=pd.Series(aleatoriosrand)\n",
        "lag=[]\n",
        "autocorr=[]\n",
        "for i in range(2,98,1):\n",
        "  if(urand.autocorr(lag=i)>=-0.025 and urand.autocorr(lag=i)<=0.025):\n",
        "    lag.append(i)\n",
        "    autocorr.append(urand.autocorr(lag=i))\n",
        "autocorr"
      ],
      "metadata": {
        "colab": {
          "base_uri": "https://localhost:8080/"
        },
        "id": "Rlm_KZ6dAj34",
        "outputId": "198382bd-e264-4e2e-e4fb-fbb4e22fbebb"
      },
      "execution_count": 12,
      "outputs": [
        {
          "output_type": "execute_result",
          "data": {
            "text/plain": [
              "[-0.01778996946970656,\n",
              " 0.02043587241758071,\n",
              " 0.015516251083556138,\n",
              " 0.0051770662477122,\n",
              " -0.002781561697391689,\n",
              " 0.0239506831391407,\n",
              " 0.005788836533934781,\n",
              " 0.008464721212702926,\n",
              " 0.012502213539954392,\n",
              " -0.013947050974272129,\n",
              " 0.021947374477015034]"
            ]
          },
          "metadata": {},
          "execution_count": 12
        }
      ]
    },
    {
      "cell_type": "code",
      "source": [
        "lag"
      ],
      "metadata": {
        "colab": {
          "base_uri": "https://localhost:8080/"
        },
        "id": "lTeteVQwAzNy",
        "outputId": "ff396926-e74c-4927-e2c2-11ccbe5ad5f2"
      },
      "execution_count": 13,
      "outputs": [
        {
          "output_type": "execute_result",
          "data": {
            "text/plain": [
              "[4, 5, 7, 13, 20, 25, 33, 34, 39, 40, 54]"
            ]
          },
          "metadata": {},
          "execution_count": 13
        }
      ]
    },
    {
      "cell_type": "markdown",
      "source": [
        "Se toman diferentes valores para el parametro lag, el cual representa el retraso de la serie para su estudio y ver en cual cumple con el requisito de estar en el rango de -0.025 y 0.025; el numero de casos en el que cumple es relativamente menor a el numero de interacciones."
      ],
      "metadata": {
        "id": "mbPukvwEDWS2"
      }
    },
    {
      "cell_type": "markdown",
      "source": [
        "## AutoCorrelacion para metodo cuadrados medios"
      ],
      "metadata": {
        "id": "t7Eh2HhjDaXV"
      }
    },
    {
      "cell_type": "code",
      "source": [
        "cuadr=pd.Series(aleatorioscuadrado)\n",
        "lag=[]\n",
        "autocorr=[]\n",
        "for i in range(2,98,1):\n",
        "  if(cuadr.autocorr(lag=i)>=-0.025 and cuadr.autocorr(lag=i)<=0.025):\n",
        "    lag.append(i)\n",
        "    autocorr.append(cuadr.autocorr(lag=i))\n",
        "autocorr"
      ],
      "metadata": {
        "colab": {
          "base_uri": "https://localhost:8080/"
        },
        "id": "Qlz45IAyBRT4",
        "outputId": "434bb41e-0bc6-4fea-83ea-78b2cdade322"
      },
      "execution_count": 14,
      "outputs": [
        {
          "output_type": "execute_result",
          "data": {
            "text/plain": [
              "[-0.01830033541381723,\n",
              " 0.008467638478795935,\n",
              " 0.005103538255844022,\n",
              " 0.021668348813494675,\n",
              " 0.012968246271060089,\n",
              " 0.012203434129490386,\n",
              " 0.010008622849766575,\n",
              " 0.0224113310797406,\n",
              " -0.022062031246314777]"
            ]
          },
          "metadata": {},
          "execution_count": 14
        }
      ]
    },
    {
      "cell_type": "code",
      "source": [
        "lag"
      ],
      "metadata": {
        "colab": {
          "base_uri": "https://localhost:8080/"
        },
        "id": "mitIugIiBciQ",
        "outputId": "2bc9b93b-d061-4ef5-ef9d-a39507afc8e5"
      },
      "execution_count": 15,
      "outputs": [
        {
          "output_type": "execute_result",
          "data": {
            "text/plain": [
              "[18, 19, 20, 25, 27, 37, 49, 73, 76]"
            ]
          },
          "metadata": {},
          "execution_count": 15
        }
      ]
    },
    {
      "cell_type": "markdown",
      "source": [
        "Se toman diferentes valores para el parametro lag, el cual representa el retraso de la serie para su estudio y ver en cual cumple con el requisito de estar en el rango de -0.025 y 0.025; el numero de casos en el que cumple es relativamente menor a el numero de interacciones."
      ],
      "metadata": {
        "id": "AvUZoMDGDdml"
      }
    }
  ]
}