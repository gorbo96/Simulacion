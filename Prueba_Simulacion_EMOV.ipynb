{
  "nbformat": 4,
  "nbformat_minor": 0,
  "metadata": {
    "colab": {
      "name": "Prueba_Simulacion_EMOV.ipynb",
      "provenance": [],
      "collapsed_sections": [],
      "authorship_tag": "ABX9TyN2evjBl5P003vAhZcdNZKs",
      "include_colab_link": true
    },
    "kernelspec": {
      "name": "python3",
      "display_name": "Python 3"
    },
    "language_info": {
      "name": "python"
    }
  },
  "cells": [
    {
      "cell_type": "markdown",
      "metadata": {
        "id": "view-in-github",
        "colab_type": "text"
      },
      "source": [
        "<a href=\"https://colab.research.google.com/github/gorbo96/Simulacion/blob/main/Prueba_Simulacion_EMOV.ipynb\" target=\"_parent\"><img src=\"https://colab.research.google.com/assets/colab-badge.svg\" alt=\"Open In Colab\"/></a>"
      ]
    },
    {
      "cell_type": "code",
      "source": [
        "!pip install simpy"
      ],
      "metadata": {
        "colab": {
          "base_uri": "https://localhost:8080/"
        },
        "id": "78tE5UEz-bGn",
        "outputId": "6e4fae55-6831-403d-b8a6-d2733daeceab"
      },
      "execution_count": 3,
      "outputs": [
        {
          "output_type": "stream",
          "name": "stdout",
          "text": [
            "Looking in indexes: https://pypi.org/simple, https://us-python.pkg.dev/colab-wheels/public/simple/\n",
            "Collecting simpy\n",
            "  Downloading simpy-4.0.1-py2.py3-none-any.whl (29 kB)\n",
            "Installing collected packages: simpy\n",
            "Successfully installed simpy-4.0.1\n"
          ]
        }
      ]
    },
    {
      "cell_type": "code",
      "execution_count": 50,
      "metadata": {
        "id": "ZGSo5UL0tuU4"
      },
      "outputs": [],
      "source": [
        "import collections\n",
        "import random\n",
        "import simpy\n",
        "import matplotlib.pyplot as plt\n",
        "import math\n",
        "\n",
        "VELOCIDAD_LLEGADA = 3\n",
        "TIEMPO_SIMULACION = 43200\n",
        "\n",
        "lig={}\n",
        "pes={}\n",
        "aprob={}\n",
        "recha={}\n",
        "\n",
        "def revisionVehiculoLig(env, vehiculo, carril):\n",
        "  with carril.contadorLig.request() as turno:\n",
        "    yield turno\n",
        "    yield env.timeout(random.randint(10,30))\n",
        "    dia=math.trunc(math.trunc(env.now)/1440) \n",
        "    revision = ['Normal', 'Fallo']\n",
        "    probabilidad_revision=[0.6,0.4]\n",
        "    salida = random.choices(revision, probabilidad_revision, k=1)\n",
        "    if(salida[0]==\"Normal\"):\n",
        "      yield env.timeout(random.randint(1,3))\n",
        "      yield env.timeout(random.randint(5,10))    \n",
        "      if dia in aprob:\n",
        "        aprob[dia]=aprob[dia]+1 \n",
        "      else:\n",
        "        aprob[dia]=1\n",
        "    else:\n",
        "      if dia in recha:\n",
        "        recha[dia]=recha[dia]+1 \n",
        "      else:\n",
        "        recha[dia]=1         \n",
        "    if dia in lig:\n",
        "        lig[dia]=lig[dia]+1 \n",
        "    else:\n",
        "        lig[dia]=1\n",
        "    \n",
        "\n",
        "\n",
        "\n",
        "def revisionVehiculoPes(env, vehiculo, carril):\n",
        "  with carril.contadorPes.request() as turno:\n",
        "    yield turno\n",
        "    yield env.timeout(random.randint(10,30))\n",
        "    dia=math.trunc(math.trunc(env.now)/1440)  \n",
        "    revision = ['Normal', 'Fallo']\n",
        "    probabilidad_revision=[0.6,0.4]\n",
        "    salida = random.choices(revision, probabilidad_revision, k=1)\n",
        "    if(salida[0]==\"Normal\"):\n",
        "      yield env.timeout(random.randint(1,3))\n",
        "      yield env.timeout(random.randint(5,10))     \n",
        "      if dia in aprob:\n",
        "        aprob[dia]=aprob[dia]+1 \n",
        "      else:\n",
        "        aprob[dia]=1\n",
        "    else:\n",
        "      if dia in recha:\n",
        "        recha[dia]=recha[dia]+1 \n",
        "      else:\n",
        "        recha[dia]=1         \n",
        "    if dia in pes:\n",
        "        pes[dia]=pes[dia]+1 \n",
        "    else:\n",
        "        pes[dia]=1\n",
        "\n",
        "def llegadaClientes(env, carril):\n",
        "  \n",
        "  while True:\n",
        "    yield env.timeout(VELOCIDAD_LLEGADA)\n",
        "    vehiculo = random.choices(carril.vehiculos, carril.probabilidad, k=1)    \n",
        "    yield env.timeout(random.randint(3,5))\n",
        "    yield env.timeout(random.randint(1,3))\n",
        "    yield env.timeout(random.randint(5,10))\n",
        "    \n",
        "    \n",
        "    if(vehiculo[0]==\"Grandes\"):\n",
        "      env.process(revisionVehiculoPes(env, vehiculo[0], carril))\n",
        "    else:\n",
        "      env.process(revisionVehiculoLig(env, vehiculo[0], carril))\n",
        "\n",
        "Carril= collections.namedtuple('Carril', 'contadorLig,contadorPes, vehiculos, probabilidad')\n",
        "\n",
        "\n",
        "env = simpy.Environment()\n",
        "\n",
        "contadorLig = simpy.Resource(env,capacity=2)\n",
        "contadorPes = simpy.Resource(env,capacity=1)\n",
        "vehiculos = ['Normal', 'Grandes']\n",
        "probabilidad=[0.15,0.85]\n",
        "carril = Carril(contadorLig,contadorPes, vehiculos, probabilidad)\n",
        "env.process(llegadaClientes(env, carril))\n",
        "env.run(until=TIEMPO_SIMULACION)\n",
        "\n"
      ]
    },
    {
      "cell_type": "code",
      "source": [
        "etiqueta = list(lig.keys())\n",
        "valores = list(lig.values())\n",
        "plt.plot(range(len(lig)), valores)\n",
        "etiqueta = list(pes.keys())\n",
        "valores = list(pes.values())\n",
        "plt.plot(range(len(lig)), valores)"
      ],
      "metadata": {
        "colab": {
          "base_uri": "https://localhost:8080/",
          "height": 282
        },
        "id": "3pDgs7grCnse",
        "outputId": "80729f47-68a6-4c89-8922-a7835fc5e6a9"
      },
      "execution_count": 51,
      "outputs": [
        {
          "output_type": "execute_result",
          "data": {
            "text/plain": [
              "[<matplotlib.lines.Line2D at 0x7f92a93b6a50>]"
            ]
          },
          "metadata": {},
          "execution_count": 51
        },
        {
          "output_type": "display_data",
          "data": {
            "text/plain": [
              "<Figure size 432x288 with 1 Axes>"
            ],
            "image/png": "[encoded data removed]"
          },
          "metadata": {
            "needs_background": "light"
          }
        }
      ]
    }
  ]
}