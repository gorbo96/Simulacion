{
  "nbformat": 4,
  "nbformat_minor": 0,
  "metadata": {
    "colab": {
      "name": "simpyInterrupciones.ipynb",
      "provenance": [],
      "collapsed_sections": [],
      "authorship_tag": "ABX9TyPN0+X9RwmSn0i6tHsqbHNt",
      "include_colab_link": true
    },
    "kernelspec": {
      "name": "python3",
      "display_name": "Python 3"
    },
    "language_info": {
      "name": "python"
    }
  },
  "cells": [
    {
      "cell_type": "markdown",
      "metadata": {
        "id": "view-in-github",
        "colab_type": "text"
      },
      "source": [
        "<a href=\"https://colab.research.google.com/github/gorbo96/Simulacion/blob/main/simpyInterrupciones.ipynb\" target=\"_parent\"><img src=\"https://colab.research.google.com/assets/colab-badge.svg\" alt=\"Open In Colab\"/></a>"
      ]
    },
    {
      "cell_type": "code",
      "source": [
        "!pip install simpy"
      ],
      "metadata": {
        "colab": {
          "base_uri": "https://localhost:8080/"
        },
        "id": "FeH3GzlLNCrw",
        "outputId": "7242c033-549b-419f-afa7-93a7e4c72209"
      },
      "execution_count": 1,
      "outputs": [
        {
          "output_type": "stream",
          "name": "stdout",
          "text": [
            "Looking in indexes: https://pypi.org/simple, https://us-python.pkg.dev/colab-wheels/public/simple/\n",
            "Requirement already satisfied: simpy in /usr/local/lib/python3.7/dist-packages (4.0.1)\n"
          ]
        }
      ]
    },
    {
      "cell_type": "code",
      "execution_count": 2,
      "metadata": {
        "id": "q_WOzsUfEPtz"
      },
      "outputs": [],
      "source": [
        "import simpy\n",
        "import random\n",
        "import matplotlib.pyplot as plt\n",
        "from scipy import stats "
      ]
    },
    {
      "cell_type": "code",
      "source": [
        "AFORO=300\n",
        "CONTAGIO=30\n",
        "MED_PROB_CONT=43\n",
        "TIEMPO_SIMULACION = 30\n",
        "UNIVERSO=AFORO*TIEMPO_SIMULACION\n",
        "CONTG={}"
      ],
      "metadata": {
        "id": "oSkjhssyEZBS"
      },
      "execution_count": 3,
      "outputs": []
    },
    {
      "cell_type": "code",
      "source": [
        "p =  CONTAGIO/100  \n",
        "bernoulli = stats.bernoulli(p)\n",
        "aleatorios = bernoulli.rvs(UNIVERSO)"
      ],
      "metadata": {
        "id": "DQj3iHZTMwh5"
      },
      "execution_count": 4,
      "outputs": []
    },
    {
      "cell_type": "code",
      "source": [
        "contagios=stats.bernoulli(MED_PROB_CONT/100)\n",
        "listcontagios=contagios.rvs(AFORO)"
      ],
      "metadata": {
        "id": "sNryXtAw4HZC"
      },
      "execution_count": 5,
      "outputs": []
    },
    {
      "cell_type": "code",
      "source": [
        "class Instituto(object):    \n",
        "  def __init__(self, environment, aforo):        \n",
        "    self.env=environment\n",
        "    self.aforo = simpy.Resource(environment, aforo)    \n",
        "      \n",
        "  def asistencia_alumno(self, alumno, id,contagio):\n",
        "    if(alumno==0):\n",
        "      aleatorios[id]=contagio\n",
        "    yield self.env.timeout(1)\n",
        "    \n",
        "def llegada_establecimineto(env, alumno, id, contagio, instituto):\n",
        "  \n",
        "  with instituto.aforo.request() as aforo:        \n",
        "      yield aforo\n",
        "      yield env.process(instituto.asistencia_alumno(alumno,id,contagio))\n",
        "       \n",
        "\n",
        "def ejecutar_simulacion(env):\n",
        "  instituto=Instituto(env, AFORO)\n",
        "  for k in range(AFORO):\n",
        "    env.process(llegada_establecimineto(env, aleatorios[k],k,listcontagios[k],instituto))\n",
        "  CONTADOR=1\n",
        "  while True:\n",
        "    i=0\n",
        "    for k in range(AFORO*CONTADOR,AFORO*(CONTADOR+1),1):\n",
        "      env.process(llegada_establecimineto(env, aleatorios[k],k,listcontagios[i],instituto))\n",
        "      i+=1\n",
        "    if(CONTADOR==(TIEMPO_SIMULACION-1)):\n",
        "      CONTADOR=0\n",
        "    else:\n",
        "      CONTADOR+=1\n",
        "    t=env.now\n",
        "    CONTG[t]=aleatorios.tolist().count(1)\n",
        "    yield env.timeout(1)\n",
        "env=simpy.Environment()\n",
        "env.process(ejecutar_simulacion(env))\n",
        "\n",
        "# Ejecutamos el proceso durante el tiempo de simulacion\n",
        "env.run(until = TIEMPO_SIMULACION)\n"
      ],
      "metadata": {
        "id": "ylEHcmwTEq41"
      },
      "execution_count": 6,
      "outputs": []
    },
    {
      "cell_type": "code",
      "source": [
        "etiqueta = list(CONTG.keys())\n",
        "valores = list(CONTG.values())\n",
        "plt.bar(range(len(CONTG)), valores, align=\"center\", tick_label=etiqueta)\n",
        "plt.title(\"Numero de contagios por dia\")\n",
        "plt.xlabel(\"Dia\")\n",
        "plt.ylabel(\"Nro. de alumnos contagiados\")\n",
        "plt.show()"
      ],
      "metadata": {
        "colab": {
          "base_uri": "https://localhost:8080/",
          "height": 295
        },
        "id": "dGjVYYlc7jkR",
        "outputId": "60f02967-bebd-42db-82db-4f6e7e48d041"
      },
      "execution_count": 7,
      "outputs": [
        {
          "output_type": "display_data",
          "data": {
            "text/plain": [
              "<Figure size 432x288 with 1 Axes>"
            ],
            "image/png": "[encoded data removed]"
          },
          "metadata": {
            "needs_background": "light"
          }
        }
      ]
    }
  ]
}