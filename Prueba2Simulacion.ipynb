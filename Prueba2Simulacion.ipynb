{
  "nbformat": 4,
  "nbformat_minor": 0,
  "metadata": {
    "colab": {
      "name": "Prueba2Simulacion.ipynb",
      "provenance": [],
      "authorship_tag": "ABX9TyPPpQootwuipyc5PutyfpWu",
      "include_colab_link": true
    },
    "kernelspec": {
      "name": "python3",
      "display_name": "Python 3"
    },
    "language_info": {
      "name": "python"
    }
  },
  "cells": [
    {
      "cell_type": "markdown",
      "metadata": {
        "id": "view-in-github",
        "colab_type": "text"
      },
      "source": [
        "<a href=\"https://colab.research.google.com/github/gorbo96/Simulacion/blob/main/Prueba2Simulacion.ipynb\" target=\"_parent\"><img src=\"https://colab.research.google.com/assets/colab-badge.svg\" alt=\"Open In Colab\"/></a>"
      ]
    },
    {
      "cell_type": "markdown",
      "source": [
        "# Librerias"
      ],
      "metadata": {
        "id": "6v4wrj_K4kUN"
      }
    },
    {
      "cell_type": "code",
      "execution_count": 1,
      "metadata": {
        "id": "DSLuxEONrfdQ"
      },
      "outputs": [],
      "source": [
        "import pandas as pd\n",
        "import numpy as np\n",
        "import random\n",
        "import math\n",
        "import matplotlib.pyplot as plt"
      ]
    },
    {
      "cell_type": "markdown",
      "source": [
        "# Generador de numeros cuadrados medios"
      ],
      "metadata": {
        "id": "M2P2rkwj4og9"
      }
    },
    {
      "cell_type": "code",
      "source": [
        "digitos = 7\n",
        "aleatorioscuadrado = []\n",
        "x0 = 74731897457\n",
        "xn = x0\n",
        "for i in range(100):\n",
        "  xs = xn**2\n",
        "  aux = str(xs).zfill(8)\n",
        "  tam = len(aux)\n",
        "  ui = int(aux[int(tam/2-digitos/2):int(tam/2+digitos/2)])\n",
        "  rn = ui / (int('9'*digitos)+1)\n",
        "  aleatorioscuadrado.append(rn)\n",
        "  xn = ui"
      ],
      "metadata": {
        "id": "dJQYxHdMrgjV"
      },
      "execution_count": 2,
      "outputs": []
    },
    {
      "cell_type": "markdown",
      "source": [
        "# Generador de numeros congruencia lineal"
      ],
      "metadata": {
        "id": "iWIc6md64uoQ"
      }
    },
    {
      "cell_type": "code",
      "source": [
        "x0 = 7\n",
        "a = 74731897457\n",
        "b = 37747318974\n",
        "m = 19\n",
        "aleatorioslineal = []\n",
        "xn = x0\n",
        "for i in range(100):\n",
        "  xnn = (a*xn+b) % m\n",
        "  ui = xnn/m\n",
        "  aleatorioslineal.append(ui)\n",
        "  xn = xnn"
      ],
      "metadata": {
        "id": "FLj6mz3LvLDD"
      },
      "execution_count": 3,
      "outputs": []
    },
    {
      "cell_type": "markdown",
      "source": [
        "# Generador de numeros mediante libreria python"
      ],
      "metadata": {
        "id": "sKXbEYpK40zt"
      }
    },
    {
      "cell_type": "code",
      "source": [
        "aleatoriospython = []\n",
        "random.seed(1032022)\n",
        "[aleatoriospython.append(random.random())for i in range(100)]"
      ],
      "metadata": {
        "colab": {
          "base_uri": "https://localhost:8080/"
        },
        "id": "aVa_JkYEvtja",
        "outputId": "bd197af5-bf53-4403-9c14-6003a650306b"
      },
      "execution_count": 4,
      "outputs": [
        {
          "output_type": "execute_result",
          "data": {
            "text/plain": [
              "[None,\n",
              " None,\n",
              " None,\n",
              " None,\n",
              " None,\n",
              " None,\n",
              " None,\n",
              " None,\n",
              " None,\n",
              " None,\n",
              " None,\n",
              " None,\n",
              " None,\n",
              " None,\n",
              " None,\n",
              " None,\n",
              " None,\n",
              " None,\n",
              " None,\n",
              " None,\n",
              " None,\n",
              " None,\n",
              " None,\n",
              " None,\n",
              " None,\n",
              " None,\n",
              " None,\n",
              " None,\n",
              " None,\n",
              " None,\n",
              " None,\n",
              " None,\n",
              " None,\n",
              " None,\n",
              " None,\n",
              " None,\n",
              " None,\n",
              " None,\n",
              " None,\n",
              " None,\n",
              " None,\n",
              " None,\n",
              " None,\n",
              " None,\n",
              " None,\n",
              " None,\n",
              " None,\n",
              " None,\n",
              " None,\n",
              " None,\n",
              " None,\n",
              " None,\n",
              " None,\n",
              " None,\n",
              " None,\n",
              " None,\n",
              " None,\n",
              " None,\n",
              " None,\n",
              " None,\n",
              " None,\n",
              " None,\n",
              " None,\n",
              " None,\n",
              " None,\n",
              " None,\n",
              " None,\n",
              " None,\n",
              " None,\n",
              " None,\n",
              " None,\n",
              " None,\n",
              " None,\n",
              " None,\n",
              " None,\n",
              " None,\n",
              " None,\n",
              " None,\n",
              " None,\n",
              " None,\n",
              " None,\n",
              " None,\n",
              " None,\n",
              " None,\n",
              " None,\n",
              " None,\n",
              " None,\n",
              " None,\n",
              " None,\n",
              " None,\n",
              " None,\n",
              " None,\n",
              " None,\n",
              " None,\n",
              " None,\n",
              " None,\n",
              " None,\n",
              " None,\n",
              " None,\n",
              " None]"
            ]
          },
          "metadata": {},
          "execution_count": 4
        }
      ]
    },
    {
      "cell_type": "markdown",
      "source": [
        "# Generador de numeros Tauswoth"
      ],
      "metadata": {
        "id": "qtYkhm-n46PH"
      }
    },
    {
      "cell_type": "code",
      "source": [
        "cantidad=100\n",
        "tamano=7\n",
        "h=7\n",
        "cadena=[1,1,1,1,1,1,1,1,1,1,1,1,1,1,1]\n",
        "q=len(cadena)\n",
        "contador1=q-h\n",
        "contador2=0\n",
        "for numero in range((cantidad*tamano)-q):\n",
        "  cadena.append(cadena[contador1]^cadena[contador2])\n",
        "  contador1+=1\n",
        "  contador2+=1\n",
        "aleatoriostaus=[]\n",
        "for orden in range(0,(cantidad*tamano),tamano):\n",
        "  aux=tamano-1\n",
        "  numero=0\n",
        "  for indice in range(orden,(orden+tamano),1):\n",
        "    numero+=pow(2,aux)*cadena[indice]\n",
        "    aux-=1\n",
        "  aleatoriostaus.append(numero/(pow(2,tamano)))"
      ],
      "metadata": {
        "id": "zbW3tuWzwNJA"
      },
      "execution_count": 5,
      "outputs": []
    },
    {
      "cell_type": "markdown",
      "source": [
        "# Corrida media para cuadrados medios"
      ],
      "metadata": {
        "id": "YegyKN1v4-yw"
      }
    },
    {
      "cell_type": "code",
      "source": [
        "corrida=[]\n",
        "ceros=0\n",
        "unos=0\n",
        "for i in range(100):\n",
        "  if(aleatorioscuadrado[i]>=0.5):\n",
        "    corrida.append(1)\n",
        "    unos+=1\n",
        "  else:\n",
        "    corrida.append(0)\n",
        "    ceros+=1"
      ],
      "metadata": {
        "id": "nk2349W_w7Xn"
      },
      "execution_count": 6,
      "outputs": []
    },
    {
      "cell_type": "code",
      "source": [
        "comparacion=corrida[0]\n",
        "corridas=1\n",
        "for j in range(1,100):\n",
        "  if(comparacion!=corrida[j]):\n",
        "    corridas+=1\n",
        "    comparacion=corrida[j]"
      ],
      "metadata": {
        "id": "8T_EzpxQymQI"
      },
      "execution_count": 7,
      "outputs": []
    },
    {
      "cell_type": "code",
      "source": [
        "uc=(2*ceros*unos/100)+0.5\n",
        "oc=(((2*ceros*unos)-100)*2*ceros*unos)/((100**2)*99)\n",
        "zo=(corridas-uc)/(math.sqrt(oc))"
      ],
      "metadata": {
        "id": "j20ZWs8Kz54X"
      },
      "execution_count": 8,
      "outputs": []
    },
    {
      "cell_type": "code",
      "source": [
        "corridas"
      ],
      "metadata": {
        "colab": {
          "base_uri": "https://localhost:8080/"
        },
        "id": "mKpKj2es6Vyd",
        "outputId": "9ccfd7ca-a150-432b-cf7d-70de4827356c"
      },
      "execution_count": 9,
      "outputs": [
        {
          "output_type": "execute_result",
          "data": {
            "text/plain": [
              "49"
            ]
          },
          "metadata": {},
          "execution_count": 9
        }
      ]
    },
    {
      "cell_type": "code",
      "source": [
        "if zo>=-1.96 and zo<=1.96:\n",
        "  print(\"El conjunto de valores es independiente, zo= \"+ str(zo))\n",
        "else:\n",
        "  print(\"El conjunto de valores no es inependiente, zo= \"+ str(zo))"
      ],
      "metadata": {
        "colab": {
          "base_uri": "https://localhost:8080/"
        },
        "id": "Yr3ZD66Q1q78",
        "outputId": "95bd6538-c84f-4b4d-a801-6d43ad9a8d22"
      },
      "execution_count": 10,
      "outputs": [
        {
          "output_type": "stream",
          "name": "stdout",
          "text": [
            "El conjunto de valores es independiente, zo= 0.02493838832056819\n"
          ]
        }
      ]
    },
    {
      "cell_type": "code",
      "source": [
        "plt.figure()\n",
        "etiquetas = ['Ceros', 'Unos',]\n",
        "plt.pie([ceros, unos], labels=etiquetas, autopct='%.2f %%')\n",
        "plt.title('Porcetanje de unos y ceros')\n",
        "plt.show()"
      ],
      "metadata": {
        "colab": {
          "base_uri": "https://localhost:8080/",
          "height": 264
        },
        "id": "akJTXjHk2nTz",
        "outputId": "b1a94579-a188-4dd7-9db5-416d2cf1504c"
      },
      "execution_count": 11,
      "outputs": [
        {
          "output_type": "display_data",
          "data": {
            "text/plain": [
              "<Figure size 432x288 with 1 Axes>"
            ],
            "image/png": "[encoded data removed]"
          },
          "metadata": {}
        }
      ]
    },
    {
      "cell_type": "markdown",
      "source": [
        "# Corrida media para conguencia lineal"
      ],
      "metadata": {
        "id": "VJxMZ9pG5FIw"
      }
    },
    {
      "cell_type": "code",
      "source": [
        "corrida=[]\n",
        "ceros=0\n",
        "unos=0\n",
        "for i in range(100):\n",
        "  if(aleatorioslineal[i]>=0.5):\n",
        "    corrida.append(1)\n",
        "    unos+=1\n",
        "  else:\n",
        "    corrida.append(0)\n",
        "    ceros+=1"
      ],
      "metadata": {
        "id": "JWhMplyp3b8R"
      },
      "execution_count": 12,
      "outputs": []
    },
    {
      "cell_type": "code",
      "source": [
        "comparacion=corrida[0]\n",
        "corridas=1\n",
        "for j in range(1,100):\n",
        "  if(comparacion!=corrida[j]):\n",
        "    corridas+=1\n",
        "    comparacion=corrida[j]"
      ],
      "metadata": {
        "id": "v7mcgatS3ntS"
      },
      "execution_count": 13,
      "outputs": []
    },
    {
      "cell_type": "code",
      "source": [
        "uc=(2*ceros*unos/100)+0.5\n",
        "oc=(((2*ceros*unos)-100)*2*ceros*unos)/((100**2)*99)\n",
        "zo=(corridas-uc)/(math.sqrt(oc))"
      ],
      "metadata": {
        "id": "-AABeULV3qAg"
      },
      "execution_count": 14,
      "outputs": []
    },
    {
      "cell_type": "code",
      "source": [
        "corridas"
      ],
      "metadata": {
        "colab": {
          "base_uri": "https://localhost:8080/"
        },
        "id": "tBk_qwLa6fdd",
        "outputId": "b5fb0241-f342-46f9-d6b6-cf5c1f045ec3"
      },
      "execution_count": 15,
      "outputs": [
        {
          "output_type": "execute_result",
          "data": {
            "text/plain": [
              "45"
            ]
          },
          "metadata": {},
          "execution_count": 15
        }
      ]
    },
    {
      "cell_type": "code",
      "source": [
        "if zo>=-1.96 and zo<=1.96:\n",
        "  print(\"El conjunto de valores es independiente, zo= \"+ str(zo))\n",
        "else:\n",
        "  print(\"El conjunto de valores no es inependiente, zo= \"+ str(zo))"
      ],
      "metadata": {
        "colab": {
          "base_uri": "https://localhost:8080/"
        },
        "id": "mnl0IWQa3sd4",
        "outputId": "6f2c12db-3d11-4450-9478-37027e17f5ae"
      },
      "execution_count": 16,
      "outputs": [
        {
          "output_type": "stream",
          "name": "stdout",
          "text": [
            "El conjunto de valores es independiente, zo= -0.9750491625213825\n"
          ]
        }
      ]
    },
    {
      "cell_type": "code",
      "source": [
        "plt.figure()\n",
        "etiquetas = ['Ceros', 'Unos',]\n",
        "plt.pie([ceros, unos], labels=etiquetas, autopct='%.2f %%')\n",
        "plt.title('Porcetanje de unos y ceros')\n",
        "plt.show()"
      ],
      "metadata": {
        "colab": {
          "base_uri": "https://localhost:8080/",
          "height": 264
        },
        "id": "qMQrsArs3uno",
        "outputId": "ebf61538-0040-4bef-b946-c1812957b8b7"
      },
      "execution_count": 17,
      "outputs": [
        {
          "output_type": "display_data",
          "data": {
            "text/plain": [
              "<Figure size 432x288 with 1 Axes>"
            ],
            "image/png": "[encoded data removed]"
          },
          "metadata": {}
        }
      ]
    },
    {
      "cell_type": "markdown",
      "source": [
        "# Corrida media para libreria python"
      ],
      "metadata": {
        "id": "KpJ3G-FQ5ITg"
      }
    },
    {
      "cell_type": "code",
      "source": [
        "corrida=[]\n",
        "ceros=0\n",
        "unos=0\n",
        "for i in range(100):\n",
        "  if(aleatoriospython[i]>=0.5):\n",
        "    corrida.append(1)\n",
        "    unos+=1\n",
        "  else:\n",
        "    corrida.append(0)\n",
        "    ceros+=1"
      ],
      "metadata": {
        "id": "oMP6uwVq34Na"
      },
      "execution_count": 18,
      "outputs": []
    },
    {
      "cell_type": "code",
      "source": [
        "comparacion=corrida[0]\n",
        "corridas=1\n",
        "for j in range(1,100):\n",
        "  if(comparacion!=corrida[j]):\n",
        "    corridas+=1\n",
        "    comparacion=corrida[j]"
      ],
      "metadata": {
        "id": "03I-MZMR4ArR"
      },
      "execution_count": 19,
      "outputs": []
    },
    {
      "cell_type": "code",
      "source": [
        "uc=(2*ceros*unos/100)+0.5\n",
        "oc=(((2*ceros*unos)-100)*2*ceros*unos)/((100**2)*99)\n",
        "zo=(corridas-uc)/(math.sqrt(oc))\n"
      ],
      "metadata": {
        "id": "a6ozDg7P4CjQ"
      },
      "execution_count": 20,
      "outputs": []
    },
    {
      "cell_type": "code",
      "source": [
        "corridas"
      ],
      "metadata": {
        "colab": {
          "base_uri": "https://localhost:8080/"
        },
        "id": "YsqbPt_o6hs2",
        "outputId": "01f22a91-b0c8-40d2-ae4a-b04c68e502e7"
      },
      "execution_count": 21,
      "outputs": [
        {
          "output_type": "execute_result",
          "data": {
            "text/plain": [
              "46"
            ]
          },
          "metadata": {},
          "execution_count": 21
        }
      ]
    },
    {
      "cell_type": "code",
      "source": [
        "if zo>=-1.96 and zo<=1.96:\n",
        "  print(\"El conjunto de valores es independiente, zo= \"+ str(zo))\n",
        "else:\n",
        "  print(\"El conjunto de valores no es inependiente, zo= \"+ str(zo))"
      ],
      "metadata": {
        "colab": {
          "base_uri": "https://localhost:8080/"
        },
        "id": "a5smXhyq4Eww",
        "outputId": "49f7b778-2394-48db-a343-cbf62093a7bf"
      },
      "execution_count": 22,
      "outputs": [
        {
          "output_type": "stream",
          "name": "stdout",
          "text": [
            "El conjunto de valores es independiente, zo= -0.7218758774415761\n"
          ]
        }
      ]
    },
    {
      "cell_type": "code",
      "source": [
        "plt.figure()\n",
        "etiquetas = ['Ceros', 'Unos',]\n",
        "plt.pie([ceros, unos], labels=etiquetas, autopct='%.2f %%')\n",
        "plt.title('Porcetanje de unos y ceros')\n",
        "plt.show()"
      ],
      "metadata": {
        "colab": {
          "base_uri": "https://localhost:8080/",
          "height": 264
        },
        "id": "KxuaXPrk4GoB",
        "outputId": "48744b2b-32aa-4059-c865-d1ce2cc21271"
      },
      "execution_count": 23,
      "outputs": [
        {
          "output_type": "display_data",
          "data": {
            "text/plain": [
              "<Figure size 432x288 with 1 Axes>"
            ],
            "image/png": "[encoded data removed]"
          },
          "metadata": {}
        }
      ]
    },
    {
      "cell_type": "markdown",
      "source": [
        "# Corrida media para tausworth"
      ],
      "metadata": {
        "id": "pGQDEiwh5LOA"
      }
    },
    {
      "cell_type": "code",
      "source": [
        "corrida=[]\n",
        "ceros=0\n",
        "unos=0\n",
        "for i in range(100):\n",
        "  if(aleatoriostaus[i]>=0.5):\n",
        "    corrida.append(1)\n",
        "    unos+=1\n",
        "  else:\n",
        "    corrida.append(0)\n",
        "    ceros+=1"
      ],
      "metadata": {
        "id": "AwhtD-L94Km6"
      },
      "execution_count": 24,
      "outputs": []
    },
    {
      "cell_type": "code",
      "source": [
        "comparacion=corrida[0]\n",
        "corridas=1\n",
        "for j in range(1,100):\n",
        "  if(comparacion!=corrida[j]):\n",
        "    corridas+=1\n",
        "    comparacion=corrida[j]"
      ],
      "metadata": {
        "id": "mmP2KCnp4SUi"
      },
      "execution_count": 25,
      "outputs": []
    },
    {
      "cell_type": "code",
      "source": [
        "uc=(2*ceros*unos/100)+0.5\n",
        "oc=(((2*ceros*unos)-100)*2*ceros*unos)/((100**2)*99)\n",
        "zo=(corridas-uc)/(math.sqrt(oc))"
      ],
      "metadata": {
        "id": "BGJc1_9B4TMA"
      },
      "execution_count": 26,
      "outputs": []
    },
    {
      "cell_type": "code",
      "source": [
        "corridas"
      ],
      "metadata": {
        "colab": {
          "base_uri": "https://localhost:8080/"
        },
        "id": "IVw-ehqe6jP1",
        "outputId": "39476b50-942e-4505-d3a3-43c543997918"
      },
      "execution_count": 27,
      "outputs": [
        {
          "output_type": "execute_result",
          "data": {
            "text/plain": [
              "48"
            ]
          },
          "metadata": {},
          "execution_count": 27
        }
      ]
    },
    {
      "cell_type": "code",
      "source": [
        "if zo>=-1.96 and zo<=1.96:\n",
        "  print(\"El conjunto de valores es independiente, zo= \"+ str(zo))\n",
        "else:\n",
        "  print(\"El conjunto de valores no es inependiente, zo= \"+ str(zo))\n",
        "  "
      ],
      "metadata": {
        "colab": {
          "base_uri": "https://localhost:8080/"
        },
        "id": "RKynXbhg4Wdw",
        "outputId": "44a95e60-5d99-460e-deec-eff2ac7668f1"
      },
      "execution_count": 28,
      "outputs": [
        {
          "output_type": "stream",
          "name": "stdout",
          "text": [
            "El conjunto de valores es independiente, zo= -0.25175237171777376\n"
          ]
        }
      ]
    },
    {
      "cell_type": "code",
      "source": [
        "plt.figure()\n",
        "etiquetas = ['Ceros', 'Unos',]\n",
        "plt.pie([ceros, unos], labels=etiquetas, autopct='%.2f %%')\n",
        "plt.title('Porcetanje de unos y ceros')\n",
        "plt.show()"
      ],
      "metadata": {
        "colab": {
          "base_uri": "https://localhost:8080/",
          "height": 264
        },
        "id": "XzCsXQA84Y1I",
        "outputId": "d483abc1-cc59-40c4-a6e8-c7e979f88570"
      },
      "execution_count": 29,
      "outputs": [
        {
          "output_type": "display_data",
          "data": {
            "text/plain": [
              "<Figure size 432x288 with 1 Axes>"
            ],
            "image/png": "[encoded data removed]"
          },
          "metadata": {}
        }
      ]
    }
  ]
}