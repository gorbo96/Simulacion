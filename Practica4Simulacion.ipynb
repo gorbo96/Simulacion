{
  "nbformat": 4,
  "nbformat_minor": 0,
  "metadata": {
    "colab": {
      "name": "Practica4.ipynb",
      "provenance": [],
      "collapsed_sections": [],
      "authorship_tag": "ABX9TyPMveroxLqKJlBeDXd3C7fa",
      "include_colab_link": true
    },
    "kernelspec": {
      "name": "python3",
      "display_name": "Python 3"
    },
    "language_info": {
      "name": "python"
    }
  },
  "cells": [
    {
      "cell_type": "markdown",
      "metadata": {
        "id": "view-in-github",
        "colab_type": "text"
      },
      "source": [
        "<a href=\"https://colab.research.google.com/github/gorbo96/Simulacion/blob/main/Practica4Simulacion.ipynb\" target=\"_parent\"><img src=\"https://colab.research.google.com/assets/colab-badge.svg\" alt=\"Open In Colab\"/></a>"
      ]
    },
    {
      "cell_type": "code",
      "execution_count": 1,
      "metadata": {
        "id": "ykfrJ8XfrOAt"
      },
      "outputs": [],
      "source": [
        "import pandas as pd\n",
        "import numpy as np\n",
        "from sklearn.preprocessing import OneHotEncoder, StandardScaler,LabelEncoder\n",
        "from sklearn.compose import make_column_transformer, ColumnTransformer\n",
        "from sklearn.linear_model import LinearRegression\n",
        "import seaborn as sb\n",
        "from sklearn import metrics\n",
        "from sklearn.model_selection import train_test_split\n",
        "from sklearn.model_selection import cross_val_score\n",
        "from sklearn.model_selection import StratifiedKFold\n",
        "from sklearn.metrics import classification_report\n",
        "from sklearn.metrics import confusion_matrix\n",
        "from sklearn.metrics import accuracy_score\n",
        "from sklearn.tree import DecisionTreeClassifier\n",
        "from sklearn import tree\n",
        "\n",
        "import matplotlib.image as pltimg\n",
        "import matplotlib.pyplot as plt\n",
        "import collections\n",
        "from sklearn.metrics import mean_squared_error\n",
        "import random"
      ]
    },
    {
      "cell_type": "markdown",
      "source": [
        "# Metodo por libreria python con semilla"
      ],
      "metadata": {
        "id": "nVk3NpgAAkSB"
      }
    },
    {
      "cell_type": "code",
      "source": [
        "aleatoriospython = []\n",
        "random.seed(11052022)\n",
        "[aleatoriospython.append(random.random())for i in range(100)]"
      ],
      "metadata": {
        "id": "-u4IXI1l4Jj8"
      },
      "execution_count": null,
      "outputs": []
    },
    {
      "cell_type": "code",
      "source": [
        "aleatoriospython"
      ],
      "metadata": {
        "colab": {
          "base_uri": "https://localhost:8080/"
        },
        "id": "gFhLWBBc6J9f",
        "outputId": "840145bb-b5e3-4bc2-b2bc-fb01a36facb0"
      },
      "execution_count": 3,
      "outputs": [
        {
          "output_type": "execute_result",
          "data": {
            "text/plain": [
              "[0.39122091339712006,\n",
              " 0.08673940245642964,\n",
              " 0.9233776991044218,\n",
              " 0.5643281259214213,\n",
              " 0.5018754578724773,\n",
              " 0.6092906311578306,\n",
              " 0.7944410154604006,\n",
              " 0.4745506456495402,\n",
              " 0.3496767363331855,\n",
              " 0.08044631797968471,\n",
              " 0.6263578731542199,\n",
              " 0.2036014039706825,\n",
              " 0.32266209276724567,\n",
              " 0.1789720571675194,\n",
              " 0.51299029248829,\n",
              " 0.7770010208223913,\n",
              " 0.5449750015006763,\n",
              " 0.6965377945580097,\n",
              " 0.17325150202955186,\n",
              " 0.9000269906696816,\n",
              " 0.7996854776854797,\n",
              " 0.35322968565101953,\n",
              " 0.6711727475466924,\n",
              " 0.28345737390743064,\n",
              " 0.37350518006964006,\n",
              " 0.37916716408773543,\n",
              " 0.17048123118844705,\n",
              " 0.823379948568777,\n",
              " 0.22300266321497408,\n",
              " 0.051569135814649614,\n",
              " 0.1922950198508785,\n",
              " 0.8634191905130083,\n",
              " 0.5439027360115081,\n",
              " 0.12556216958312505,\n",
              " 0.34124337838965746,\n",
              " 0.6811002910449016,\n",
              " 0.07304203459633685,\n",
              " 0.12499764479557629,\n",
              " 0.2036691179102461,\n",
              " 0.5579574657844889,\n",
              " 0.7421399105045708,\n",
              " 0.5911979676257648,\n",
              " 0.985890474077214,\n",
              " 0.36352070742615483,\n",
              " 0.8983386409438613,\n",
              " 0.045274687387145685,\n",
              " 0.010854410020205485,\n",
              " 0.10747868006965788,\n",
              " 0.7310662267223154,\n",
              " 0.6789110128701332,\n",
              " 0.4681284220423234,\n",
              " 0.7487069922157717,\n",
              " 0.04797854000306567,\n",
              " 0.24710709969259748,\n",
              " 0.04930411236665988,\n",
              " 0.0020391251798350662,\n",
              " 0.07593976703716421,\n",
              " 0.28676974817745593,\n",
              " 0.0046998045473188865,\n",
              " 0.994987409240566,\n",
              " 0.9826228155176063,\n",
              " 0.6053241326585376,\n",
              " 0.5849806144858605,\n",
              " 0.22958414513776948,\n",
              " 0.10777536071052607,\n",
              " 0.5808351957143609,\n",
              " 0.572388670521242,\n",
              " 0.008221646874923993,\n",
              " 0.6896864689831648,\n",
              " 0.12846169495459336,\n",
              " 0.2535791939191787,\n",
              " 0.5478308529147088,\n",
              " 0.27120576132569874,\n",
              " 0.7256050877837473,\n",
              " 0.010751622315348097,\n",
              " 0.9426507923902242,\n",
              " 0.715282633312101,\n",
              " 0.5199730077235968,\n",
              " 0.17428944191844298,\n",
              " 0.8915547498465177,\n",
              " 0.24393711031568588,\n",
              " 0.018682015068336,\n",
              " 0.8427798991994951,\n",
              " 0.015499748889723719,\n",
              " 0.7895388047965864,\n",
              " 0.5450205028827372,\n",
              " 0.2964689443835594,\n",
              " 0.577139092833342,\n",
              " 0.3904078855024612,\n",
              " 0.8461885527273011,\n",
              " 0.2598106883020571,\n",
              " 0.3421468366012045,\n",
              " 0.8909448186747102,\n",
              " 0.16447232820424518,\n",
              " 0.20528958200149916,\n",
              " 0.9877596907709568,\n",
              " 0.27006525861806896,\n",
              " 0.5219510602287093,\n",
              " 0.5592011764902934,\n",
              " 0.5556146311555469]"
            ]
          },
          "metadata": {},
          "execution_count": 3
        }
      ]
    },
    {
      "cell_type": "markdown",
      "source": [
        "# Metodo de Cuadrados Medios"
      ],
      "metadata": {
        "id": "FFv-gOwBAx_I"
      }
    },
    {
      "cell_type": "code",
      "source": [
        "digitos = 4\n",
        "aleatorioscuadrado = []\n",
        "x0 = 74731897457\n",
        "xn = x0\n",
        "for i in range(100):\n",
        "  xs = xn**2\n",
        "  aux = str(xs).zfill(8)\n",
        "  tam = len(aux)\n",
        "  ui = int(aux[int(tam/2-digitos/2):int(tam/2+digitos/2)])\n",
        "  rn = ui / (int('9'*digitos)+1)\n",
        "  aleatorioscuadrado.append(rn)\n",
        "  xn = ui"
      ],
      "metadata": {
        "id": "QgVg9GtO43RB"
      },
      "execution_count": 4,
      "outputs": []
    },
    {
      "cell_type": "code",
      "source": [
        "aleatorioscuadrado"
      ],
      "metadata": {
        "colab": {
          "base_uri": "https://localhost:8080/"
        },
        "id": "KWyw8Kh36XDq",
        "outputId": "62fff64c-3b2c-42c4-fdad-f07d98adf31b"
      },
      "execution_count": 5,
      "outputs": [
        {
          "output_type": "execute_result",
          "data": {
            "text/plain": [
              "[0.7523,\n",
              " 0.5955,\n",
              " 0.462,\n",
              " 0.3444,\n",
              " 0.8611,\n",
              " 0.1493,\n",
              " 0.229,\n",
              " 0.2441,\n",
              " 0.9584,\n",
              " 0.853,\n",
              " 0.7609,\n",
              " 0.8968,\n",
              " 0.425,\n",
              " 0.0625,\n",
              " 0.3906,\n",
              " 0.2568,\n",
              " 0.5946,\n",
              " 0.3549,\n",
              " 0.5954,\n",
              " 0.4501,\n",
              " 0.259,\n",
              " 0.7081,\n",
              " 0.1405,\n",
              " 0.974,\n",
              " 0.8676,\n",
              " 0.2729,\n",
              " 0.4474,\n",
              " 0.0166,\n",
              " 0.0275,\n",
              " 0.0756,\n",
              " 0.5715,\n",
              " 0.6612,\n",
              " 0.7185,\n",
              " 0.6242,\n",
              " 0.9625,\n",
              " 0.6406,\n",
              " 0.0368,\n",
              " 0.1354,\n",
              " 0.8333,\n",
              " 0.4388,\n",
              " 0.2545,\n",
              " 0.477,\n",
              " 0.7529,\n",
              " 0.6858,\n",
              " 0.0321,\n",
              " 0.103,\n",
              " 0.0609,\n",
              " 0.3708,\n",
              " 0.7492,\n",
              " 0.13,\n",
              " 0.69,\n",
              " 0.61,\n",
              " 0.21,\n",
              " 0.41,\n",
              " 0.81,\n",
              " 0.61,\n",
              " 0.21,\n",
              " 0.41,\n",
              " 0.81,\n",
              " 0.61,\n",
              " 0.21,\n",
              " 0.41,\n",
              " 0.81,\n",
              " 0.61,\n",
              " 0.21,\n",
              " 0.41,\n",
              " 0.81,\n",
              " 0.61,\n",
              " 0.21,\n",
              " 0.41,\n",
              " 0.81,\n",
              " 0.61,\n",
              " 0.21,\n",
              " 0.41,\n",
              " 0.81,\n",
              " 0.61,\n",
              " 0.21,\n",
              " 0.41,\n",
              " 0.81,\n",
              " 0.61,\n",
              " 0.21,\n",
              " 0.41,\n",
              " 0.81,\n",
              " 0.61,\n",
              " 0.21,\n",
              " 0.41,\n",
              " 0.81,\n",
              " 0.61,\n",
              " 0.21,\n",
              " 0.41,\n",
              " 0.81,\n",
              " 0.61,\n",
              " 0.21,\n",
              " 0.41,\n",
              " 0.81,\n",
              " 0.61,\n",
              " 0.21,\n",
              " 0.41,\n",
              " 0.81,\n",
              " 0.61]"
            ]
          },
          "metadata": {},
          "execution_count": 5
        }
      ]
    },
    {
      "cell_type": "markdown",
      "source": [
        "# Metodo de congruencia lineal"
      ],
      "metadata": {
        "id": "eZhl_NByA3Jo"
      }
    },
    {
      "cell_type": "code",
      "source": [
        "x0 = 7\n",
        "a = 74731897457\n",
        "b = 37747318974\n",
        "m = 19\n",
        "aleatorioslineal = []\n",
        "xn = x0\n",
        "for i in range(100):\n",
        "  xnn = (a*xn+b) % m\n",
        "  ui = xnn/m\n",
        "  aleatorioslineal.append(ui)\n",
        "  xn = xnn"
      ],
      "metadata": {
        "id": "2DbgNtHQ6ZtP"
      },
      "execution_count": 6,
      "outputs": []
    },
    {
      "cell_type": "code",
      "source": [
        "aleatorioslineal"
      ],
      "metadata": {
        "colab": {
          "base_uri": "https://localhost:8080/"
        },
        "id": "ldemV8Ey7ove",
        "outputId": "f678046d-20a8-4232-b4e9-64842025a021"
      },
      "execution_count": 7,
      "outputs": [
        {
          "output_type": "execute_result",
          "data": {
            "text/plain": [
              "[0.8947368421052632,\n",
              " 0.8421052631578947,\n",
              " 0.9473684210526315,\n",
              " 0.7368421052631579,\n",
              " 0.15789473684210525,\n",
              " 0.3157894736842105,\n",
              " 0.0,\n",
              " 0.631578947368421,\n",
              " 0.3684210526315789,\n",
              " 0.8947368421052632,\n",
              " 0.8421052631578947,\n",
              " 0.9473684210526315,\n",
              " 0.7368421052631579,\n",
              " 0.15789473684210525,\n",
              " 0.3157894736842105,\n",
              " 0.0,\n",
              " 0.631578947368421,\n",
              " 0.3684210526315789,\n",
              " 0.8947368421052632,\n",
              " 0.8421052631578947,\n",
              " 0.9473684210526315,\n",
              " 0.7368421052631579,\n",
              " 0.15789473684210525,\n",
              " 0.3157894736842105,\n",
              " 0.0,\n",
              " 0.631578947368421,\n",
              " 0.3684210526315789,\n",
              " 0.8947368421052632,\n",
              " 0.8421052631578947,\n",
              " 0.9473684210526315,\n",
              " 0.7368421052631579,\n",
              " 0.15789473684210525,\n",
              " 0.3157894736842105,\n",
              " 0.0,\n",
              " 0.631578947368421,\n",
              " 0.3684210526315789,\n",
              " 0.8947368421052632,\n",
              " 0.8421052631578947,\n",
              " 0.9473684210526315,\n",
              " 0.7368421052631579,\n",
              " 0.15789473684210525,\n",
              " 0.3157894736842105,\n",
              " 0.0,\n",
              " 0.631578947368421,\n",
              " 0.3684210526315789,\n",
              " 0.8947368421052632,\n",
              " 0.8421052631578947,\n",
              " 0.9473684210526315,\n",
              " 0.7368421052631579,\n",
              " 0.15789473684210525,\n",
              " 0.3157894736842105,\n",
              " 0.0,\n",
              " 0.631578947368421,\n",
              " 0.3684210526315789,\n",
              " 0.8947368421052632,\n",
              " 0.8421052631578947,\n",
              " 0.9473684210526315,\n",
              " 0.7368421052631579,\n",
              " 0.15789473684210525,\n",
              " 0.3157894736842105,\n",
              " 0.0,\n",
              " 0.631578947368421,\n",
              " 0.3684210526315789,\n",
              " 0.8947368421052632,\n",
              " 0.8421052631578947,\n",
              " 0.9473684210526315,\n",
              " 0.7368421052631579,\n",
              " 0.15789473684210525,\n",
              " 0.3157894736842105,\n",
              " 0.0,\n",
              " 0.631578947368421,\n",
              " 0.3684210526315789,\n",
              " 0.8947368421052632,\n",
              " 0.8421052631578947,\n",
              " 0.9473684210526315,\n",
              " 0.7368421052631579,\n",
              " 0.15789473684210525,\n",
              " 0.3157894736842105,\n",
              " 0.0,\n",
              " 0.631578947368421,\n",
              " 0.3684210526315789,\n",
              " 0.8947368421052632,\n",
              " 0.8421052631578947,\n",
              " 0.9473684210526315,\n",
              " 0.7368421052631579,\n",
              " 0.15789473684210525,\n",
              " 0.3157894736842105,\n",
              " 0.0,\n",
              " 0.631578947368421,\n",
              " 0.3684210526315789,\n",
              " 0.8947368421052632,\n",
              " 0.8421052631578947,\n",
              " 0.9473684210526315,\n",
              " 0.7368421052631579,\n",
              " 0.15789473684210525,\n",
              " 0.3157894736842105,\n",
              " 0.0,\n",
              " 0.631578947368421,\n",
              " 0.3684210526315789,\n",
              " 0.8947368421052632]"
            ]
          },
          "metadata": {},
          "execution_count": 7
        }
      ]
    },
    {
      "cell_type": "markdown",
      "source": [
        "# Metodo de Tauswoth"
      ],
      "metadata": {
        "id": "WJQFfmqDA8vv"
      }
    },
    {
      "cell_type": "code",
      "source": [
        "cantidad=100\n",
        "tamano=5\n",
        "h=3\n",
        "cadena=[1,1,1,1,1,1,1]\n",
        "q=len(cadena)\n",
        "contador1=q-h\n",
        "contador2=0\n",
        "for numero in range((cantidad*tamano)-q):\n",
        "  cadena.append(cadena[contador1]^cadena[contador2])\n",
        "  contador1+=1\n",
        "  contador2+=1\n",
        "cadena"
      ],
      "metadata": {
        "id": "PTr_RvP_7vk9"
      },
      "execution_count": null,
      "outputs": []
    },
    {
      "cell_type": "code",
      "source": [
        "aleatoriostaus=[]\n",
        "for orden in range(0,(cantidad*tamano),tamano):\n",
        "  aux=tamano-1\n",
        "  numero=0\n",
        "  for indice in range(orden,(orden+tamano),1):\n",
        "    numero+=pow(2,aux)*cadena[indice]\n",
        "    aux-=1\n",
        "  aleatoriostaus.append(numero/(pow(2,tamano)))"
      ],
      "metadata": {
        "id": "WGY3OkYX8X0l"
      },
      "execution_count": 9,
      "outputs": []
    },
    {
      "cell_type": "code",
      "source": [
        "aleatoriostaus"
      ],
      "metadata": {
        "colab": {
          "base_uri": "https://localhost:8080/"
        },
        "id": "oTL6TKH3_xop",
        "outputId": "35207b95-6e4e-46aa-dbcb-33180720df35"
      },
      "execution_count": 23,
      "outputs": [
        {
          "output_type": "execute_result",
          "data": {
            "text/plain": [
              "[0.96875,\n",
              " 0.75,\n",
              " 0.90625,\n",
              " 0.53125,\n",
              " 0.28125,\n",
              " 0.46875,\n",
              " 0.65625,\n",
              " 0.25,\n",
              " 0.34375,\n",
              " 0.46875,\n",
              " 0.21875,\n",
              " 0.15625,\n",
              " 0.375,\n",
              " 0.75,\n",
              " 0.1875,\n",
              " 0.8125,\n",
              " 0.90625,\n",
              " 0.09375,\n",
              " 0.125,\n",
              " 0.25,\n",
              " 0.0625,\n",
              " 0.28125,\n",
              " 0.625,\n",
              " 0.9375,\n",
              " 0.875,\n",
              " 0.21875,\n",
              " 0.9375,\n",
              " 0.21875,\n",
              " 0.375,\n",
              " 0.3125,\n",
              " 0.34375,\n",
              " 0.90625,\n",
              " 0.3125,\n",
              " 0.0625,\n",
              " 0.84375,\n",
              " 0.78125,\n",
              " 0.78125,\n",
              " 0.34375,\n",
              " 0.1875,\n",
              " 0.03125,\n",
              " 0.6875,\n",
              " 0.71875,\n",
              " 0.25,\n",
              " 0.78125,\n",
              " 0.0625,\n",
              " 0.0,\n",
              " 0.5625,\n",
              " 0.40625,\n",
              " 0.21875,\n",
              " 0.71875,\n",
              " 0.03125,\n",
              " 0.96875,\n",
              " 0.53125,\n",
              " 0.84375,\n",
              " 0.0625,\n",
              " 0.5625,\n",
              " 0.96875,\n",
              " 0.3125,\n",
              " 0.5,\n",
              " 0.6875,\n",
              " 0.9375,\n",
              " 0.4375,\n",
              " 0.3125,\n",
              " 0.78125,\n",
              " 0.5,\n",
              " 0.40625,\n",
              " 0.65625,\n",
              " 0.8125,\n",
              " 0.1875,\n",
              " 0.25,\n",
              " 0.5,\n",
              " 0.125,\n",
              " 0.59375,\n",
              " 0.28125,\n",
              " 0.90625,\n",
              " 0.75,\n",
              " 0.46875,\n",
              " 0.875,\n",
              " 0.4375,\n",
              " 0.75,\n",
              " 0.625,\n",
              " 0.71875,\n",
              " 0.8125,\n",
              " 0.625,\n",
              " 0.15625,\n",
              " 0.71875,\n",
              " 0.59375,\n",
              " 0.5625,\n",
              " 0.6875,\n",
              " 0.375,\n",
              " 0.09375,\n",
              " 0.40625,\n",
              " 0.4375,\n",
              " 0.53125,\n",
              " 0.5625,\n",
              " 0.125,\n",
              " 0.03125,\n",
              " 0.125,\n",
              " 0.8125,\n",
              " 0.46875]"
            ]
          },
          "metadata": {},
          "execution_count": 23
        }
      ]
    },
    {
      "cell_type": "markdown",
      "source": [
        "# Conteo de frecuencia por rango. Valor de chi. Grafica Libreria Python"
      ],
      "metadata": {
        "id": "NFLjshsiBCwo"
      }
    },
    {
      "cell_type": "code",
      "source": [
        "tablas = {}\n",
        "for i in np.arange(0.1, 1.1, 0.1): \n",
        "  for j in aleatoriospython:\n",
        "    if j > i-0.1 and j <= i:\n",
        "      tablas[round(i-0.1,1)] = tablas[round(i-0.1,1)]+1 if round(i-0.1,1) in tablas else 1"
      ],
      "metadata": {
        "id": "6jxfRLVs9nc8"
      },
      "execution_count": 10,
      "outputs": []
    },
    {
      "cell_type": "code",
      "source": [
        "tablas"
      ],
      "metadata": {
        "colab": {
          "base_uri": "https://localhost:8080/"
        },
        "id": "OMLo2I_89waD",
        "outputId": "6101edde-5044-4a21-fdd3-f0af40c92c2b"
      },
      "execution_count": 11,
      "outputs": [
        {
          "output_type": "execute_result",
          "data": {
            "text/plain": [
              "{0.0: 15,\n",
              " 0.1: 11,\n",
              " 0.2: 14,\n",
              " 0.3: 10,\n",
              " 0.4: 2,\n",
              " 0.5: 17,\n",
              " 0.6: 8,\n",
              " 0.7: 9,\n",
              " 0.8: 7,\n",
              " 0.9: 7}"
            ]
          },
          "metadata": {},
          "execution_count": 11
        }
      ]
    },
    {
      "cell_type": "code",
      "source": [
        "sum([(valor-10)**2/10 for valor in tablas.values()])"
      ],
      "metadata": {
        "colab": {
          "base_uri": "https://localhost:8080/"
        },
        "id": "PSl4I3xm-KOD",
        "outputId": "976cc6e6-2e15-449b-a800-d2f5bd113d62"
      },
      "execution_count": 12,
      "outputs": [
        {
          "output_type": "execute_result",
          "data": {
            "text/plain": [
              "17.8"
            ]
          },
          "metadata": {},
          "execution_count": 12
        }
      ]
    },
    {
      "cell_type": "code",
      "source": [
        "plt.bar(range(len(tablas)), list(tablas.values()), tick_label=list(tablas.keys()))\n",
        "plt.show()"
      ],
      "metadata": {
        "colab": {
          "base_uri": "https://localhost:8080/",
          "height": 265
        },
        "id": "Xb5Y1KFn-e4r",
        "outputId": "c1d49a04-3fb7-4aee-d729-fde8b8aebdb6"
      },
      "execution_count": 13,
      "outputs": [
        {
          "output_type": "display_data",
          "data": {
            "text/plain": [
              "<Figure size 432x288 with 1 Axes>"
            ],
            "image/png": "[encoded data removed]"
          },
          "metadata": {
            "needs_background": "light"
          }
        }
      ]
    },
    {
      "cell_type": "markdown",
      "source": [
        "# Conteo de frecuencia por rango. Valor de chi. Grafica Congruencia Lineal"
      ],
      "metadata": {
        "id": "Mlz7hXWUBTJI"
      }
    },
    {
      "cell_type": "code",
      "source": [
        "tablas = {}\n",
        "for i in np.arange(0.1, 1.1, 0.1): \n",
        "  for j in aleatorioslineal:\n",
        "    if j > i-0.1 and j <= i:\n",
        "      tablas[round(i-0.1,1)] = tablas[round(i-0.1,1)]+1 if round(i-0.1,1) in tablas else 1"
      ],
      "metadata": {
        "id": "n58VFDDj-ysj"
      },
      "execution_count": 14,
      "outputs": []
    },
    {
      "cell_type": "code",
      "source": [
        "tablas"
      ],
      "metadata": {
        "colab": {
          "base_uri": "https://localhost:8080/"
        },
        "id": "hCuHhMVm_Ax7",
        "outputId": "11234000-7ede-4999-e1b8-b5635fa53000"
      },
      "execution_count": 15,
      "outputs": [
        {
          "output_type": "execute_result",
          "data": {
            "text/plain": [
              "{0.1: 11, 0.3: 22, 0.6: 11, 0.7: 11, 0.8: 23, 0.9: 11}"
            ]
          },
          "metadata": {},
          "execution_count": 15
        }
      ]
    },
    {
      "cell_type": "code",
      "source": [
        "sum([(valor-10)**2/10 for valor in tablas.values()])"
      ],
      "metadata": {
        "colab": {
          "base_uri": "https://localhost:8080/"
        },
        "id": "5CKMOgJ8_CiJ",
        "outputId": "7c1d66dc-e82b-4e12-ffef-d2d433c6ea2f"
      },
      "execution_count": 16,
      "outputs": [
        {
          "output_type": "execute_result",
          "data": {
            "text/plain": [
              "31.7"
            ]
          },
          "metadata": {},
          "execution_count": 16
        }
      ]
    },
    {
      "cell_type": "code",
      "source": [
        "plt.bar(range(len(tablas)), list(tablas.values()), tick_label=list(tablas.keys()))\n",
        "plt.show()"
      ],
      "metadata": {
        "colab": {
          "base_uri": "https://localhost:8080/",
          "height": 265
        },
        "id": "VQCVh_Vb_FDK",
        "outputId": "b4edec8c-2535-44bb-8593-fde2b91eb693"
      },
      "execution_count": 17,
      "outputs": [
        {
          "output_type": "display_data",
          "data": {
            "text/plain": [
              "<Figure size 432x288 with 1 Axes>"
            ],
            "image/png": "[encoded data removed]"
          },
          "metadata": {
            "needs_background": "light"
          }
        }
      ]
    },
    {
      "cell_type": "markdown",
      "source": [
        "# Conteo de frecuencia por rango. Valor de chi. Grafica Cuadrados medios"
      ],
      "metadata": {
        "id": "KpW2wAJ6BYFg"
      }
    },
    {
      "cell_type": "code",
      "source": [
        "tablas = {}\n",
        "for i in np.arange(0.1, 1.1, 0.1): \n",
        "  for j in aleatorioscuadrado:\n",
        "    if j > i-0.1 and j <= i:\n",
        "      tablas[round(i-0.1,1)] = tablas[round(i-0.1,1)]+1 if round(i-0.1,1) in tablas else 1"
      ],
      "metadata": {
        "id": "a38P903y_J8y"
      },
      "execution_count": 18,
      "outputs": []
    },
    {
      "cell_type": "code",
      "source": [
        "tablas"
      ],
      "metadata": {
        "colab": {
          "base_uri": "https://localhost:8080/"
        },
        "id": "XfjR_Jmh_OQJ",
        "outputId": "65372d36-1f09-4520-9031-2e68012eb1f7"
      },
      "execution_count": 19,
      "outputs": [
        {
          "output_type": "execute_result",
          "data": {
            "text/plain": [
              "{0.0: 7,\n",
              " 0.1: 5,\n",
              " 0.2: 18,\n",
              " 0.3: 4,\n",
              " 0.4: 18,\n",
              " 0.5: 4,\n",
              " 0.6: 18,\n",
              " 0.7: 6,\n",
              " 0.8: 17,\n",
              " 0.9: 3}"
            ]
          },
          "metadata": {},
          "execution_count": 19
        }
      ]
    },
    {
      "cell_type": "code",
      "source": [
        "sum([(valor-10)**2/10 for valor in tablas.values()])"
      ],
      "metadata": {
        "colab": {
          "base_uri": "https://localhost:8080/"
        },
        "id": "0zE39fVL_O7a",
        "outputId": "9f0e7eeb-a866-40e4-d70c-ac7fb0a63ef8"
      },
      "execution_count": 20,
      "outputs": [
        {
          "output_type": "execute_result",
          "data": {
            "text/plain": [
              "41.2"
            ]
          },
          "metadata": {},
          "execution_count": 20
        }
      ]
    },
    {
      "cell_type": "code",
      "source": [
        "plt.bar(range(len(tablas)), list(tablas.values()), tick_label=list(tablas.keys()))\n",
        "plt.show()"
      ],
      "metadata": {
        "colab": {
          "base_uri": "https://localhost:8080/",
          "height": 265
        },
        "id": "eiA-s4ng_SsS",
        "outputId": "958e1421-8990-428e-d6ae-3037e71c59a6"
      },
      "execution_count": 21,
      "outputs": [
        {
          "output_type": "display_data",
          "data": {
            "text/plain": [
              "<Figure size 432x288 with 1 Axes>"
            ],
            "image/png": "[encoded data removed]"
          },
          "metadata": {
            "needs_background": "light"
          }
        }
      ]
    },
    {
      "cell_type": "markdown",
      "source": [
        "# Conteo de frecuencia por rango. Valor de chi. Grafica Metodo Tausworth"
      ],
      "metadata": {
        "id": "ZTH-CqQ0BbQg"
      }
    },
    {
      "cell_type": "code",
      "source": [
        "tablas = {}\n",
        "for i in np.arange(0.1, 1.1, 0.1): \n",
        "  for j in aleatoriostaus:\n",
        "    if j > i-0.1 and j <= i:\n",
        "      tablas[round(i-0.1,1)] = tablas[round(i-0.1,1)]+1 if round(i-0.1,1) in tablas else 1"
      ],
      "metadata": {
        "id": "wOie1L63_Y8y"
      },
      "execution_count": 24,
      "outputs": []
    },
    {
      "cell_type": "code",
      "source": [
        "tablas"
      ],
      "metadata": {
        "colab": {
          "base_uri": "https://localhost:8080/"
        },
        "id": "zvm_xwuz_587",
        "outputId": "117f22a7-f0a5-463a-d6e8-e5bda34c3a53"
      },
      "execution_count": 25,
      "outputs": [
        {
          "output_type": "execute_result",
          "data": {
            "text/plain": [
              "{0.0: 9,\n",
              " 0.1: 9,\n",
              " 0.2: 11,\n",
              " 0.3: 10,\n",
              " 0.4: 13,\n",
              " 0.5: 9,\n",
              " 0.6: 8,\n",
              " 0.7: 12,\n",
              " 0.8: 8,\n",
              " 0.9: 10}"
            ]
          },
          "metadata": {},
          "execution_count": 25
        }
      ]
    },
    {
      "cell_type": "code",
      "source": [
        "sum([(valor-10)**2/10 for valor in tablas.values()])"
      ],
      "metadata": {
        "colab": {
          "base_uri": "https://localhost:8080/"
        },
        "id": "Cr8gvf61_7OV",
        "outputId": "46033009-61d5-4f35-f031-774dbacd7304"
      },
      "execution_count": 26,
      "outputs": [
        {
          "output_type": "execute_result",
          "data": {
            "text/plain": [
              "2.5"
            ]
          },
          "metadata": {},
          "execution_count": 26
        }
      ]
    },
    {
      "cell_type": "code",
      "source": [
        "plt.bar(range(len(tablas)), list(tablas.values()), tick_label=list(tablas.keys()))\n",
        "plt.show()"
      ],
      "metadata": {
        "colab": {
          "base_uri": "https://localhost:8080/",
          "height": 265
        },
        "id": "KUOOAw6S_-xL",
        "outputId": "16936c0d-7e57-4adb-80f2-6c8eb6d7f9fe"
      },
      "execution_count": 27,
      "outputs": [
        {
          "output_type": "display_data",
          "data": {
            "text/plain": [
              "<Figure size 432x288 with 1 Axes>"
            ],
            "image/png": "[encoded data removed]"
          },
          "metadata": {
            "needs_background": "light"
          }
        }
      ]
    }
  ]
}