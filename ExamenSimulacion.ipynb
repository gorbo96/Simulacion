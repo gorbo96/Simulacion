{
  "nbformat": 4,
  "nbformat_minor": 0,
  "metadata": {
    "colab": {
      "name": "ExamenSimulacion.ipynb",
      "provenance": [],
      "collapsed_sections": [],
      "authorship_tag": "ABX9TyOzGKZJJuwZNSc98o0447sq",
      "include_colab_link": true
    },
    "kernelspec": {
      "name": "python3",
      "display_name": "Python 3"
    },
    "language_info": {
      "name": "python"
    }
  },
  "cells": [
    {
      "cell_type": "markdown",
      "metadata": {
        "id": "view-in-github",
        "colab_type": "text"
      },
      "source": [
        "<a href=\"https://colab.research.google.com/github/gorbo96/Simulacion/blob/main/ExamenSimulacion.ipynb\" target=\"_parent\"><img src=\"https://colab.research.google.com/assets/colab-badge.svg\" alt=\"Open In Colab\"/></a>"
      ]
    },
    {
      "cell_type": "code",
      "execution_count": 1,
      "metadata": {
        "colab": {
          "base_uri": "https://localhost:8080/"
        },
        "id": "GzsOGWSVCQ-9",
        "outputId": "8502fe1c-35bd-4d2e-9d0f-26bc5b6d5c9e"
      },
      "outputs": [
        {
          "output_type": "stream",
          "name": "stdout",
          "text": [
            "Looking in indexes: https://pypi.org/simple, https://us-python.pkg.dev/colab-wheels/public/simple/\n",
            "Requirement already satisfied: simpy in /usr/local/lib/python3.7/dist-packages (4.0.1)\n"
          ]
        }
      ],
      "source": [
        "!pip install simpy"
      ]
    },
    {
      "cell_type": "code",
      "source": [
        "import collections\n",
        "import random\n",
        "import simpy\n",
        "import matplotlib.pyplot as plt\n",
        "import math\n",
        "import numpy as np \n",
        "from scipy import stats"
      ],
      "metadata": {
        "id": "5go-2RU9C-jZ"
      },
      "execution_count": 2,
      "outputs": []
    },
    {
      "cell_type": "code",
      "source": [
        "class Simulacion():\n",
        "  CAPACIDAD_BUS=40\n",
        "  TIEMPO_SIMULACION = 168\n",
        "  LUGARES=[\"Quito\",\"Cuenca\",\"Machala\",\"Guayaquil\",\"Loja\",\"Zamora\"]\n",
        "  PROB_LUGARES=[0.16,0.08,0.16,0.08,0.32,0.16]\n",
        "  VELOCIDAD_LLEGADA = 0.3\n",
        "  Cliente= collections.namedtuple('Cliente', 'genero,edad,origen,destino,boletos')\n",
        "  Empresa= collections.namedtuple('Empresa', 'bus1,bus2,bus3,bus4,bus5')\n",
        "  env = simpy.Environment()\n",
        "  bus1 = simpy.Resource(env,capacity=CAPACIDAD_BUS)\n",
        "  bus2 = simpy.Resource(env,capacity=CAPACIDAD_BUS)\n",
        "  bus3 = simpy.Resource(env,capacity=CAPACIDAD_BUS)\n",
        "  bus4 = simpy.Resource(env,capacity=CAPACIDAD_BUS)\n",
        "  bus5 = simpy.Resource(env,capacity=CAPACIDAD_BUS)  \n",
        "  empresa=Empresa(bus1,bus2,bus3,bus4,bus5)  \n",
        "\n",
        "  def definir_cliente(self):\n",
        "    p =  0.6\n",
        "    bernoulli = stats.bernoulli(p)\n",
        "    genero = bernoulli.rvs(1)\n",
        "    mu = 35 \n",
        "    poisson = stats.poisson(mu)  \n",
        "    edad = poisson.rvs(1)\n",
        "    origen = random.choices(self.LUGARES, self.PROB_LUGARES, k=1)\n",
        "    destino = random.choices(self.LUGARES, self.PROB_LUGARES, k=1)  \n",
        "    tickets=random.randint(1, 6)\n",
        "    cliente=self.Cliente(genero,edad,origen,destino,tickets)\n",
        "    return cliente\n",
        "\n",
        "  def ventaBoletos(self,cliente,bus):\n",
        "    with bus.request() as turno:\n",
        "      yield turno\n",
        "      mu, sigma = 10, 2\n",
        "      tiempo = np.random.normal(mu, sigma, 1)\n",
        "      yield self.env.timeout(tiempo)\n",
        "\n",
        "  def salida_bus(self, proceso):\n",
        "    yield self.env.timeout(1)\n",
        "    proceso.interrupt()\n",
        "    \n",
        "\n",
        "  def llegadaClientes(self,empresa):  \n",
        "    indice=0\n",
        "    while True:\n",
        "      yield self.env.timeout(self.VELOCIDAD_LLEGADA)\n",
        "      cliente=self.definir_cliente()\n",
        "      if(indice==0):\n",
        "        try:\n",
        "          self.salida1=self.env.process(self.ventaBoletos(cliente, empresa.bus1))        \n",
        "        except simpy.Interrupt:\n",
        "          mu, sigma = 6, 4\n",
        "          viaje = np.random.normal(mu, sigma, 1)\n",
        "          yield self.env.timeout(viaje)\n",
        "          yield self.env.timeout(viaje)        \n",
        "      if(indice==1):\n",
        "        try:\n",
        "          self.salida2=self.env.process(self.ventaBoletos(cliente, empresa.bus2))        \n",
        "        except simpy.Interrupt:\n",
        "          mu, sigma = 6, 4\n",
        "          viaje = np.random.normal(mu, sigma, 1)\n",
        "          yield self.env.timeout(viaje)\n",
        "          yield self.env.timeout(viaje)\n",
        "      if(indice==2):\n",
        "        try:\n",
        "          self.salida3=self.env.process(self.ventaBoletos(cliente, empresa.bus3))\n",
        "        except simpy.Interrupt:\n",
        "          mu, sigma = 6, 4\n",
        "          viaje = np.random.normal(mu, sigma, 1)\n",
        "          yield self.env.timeout(viaje)\n",
        "          yield self.env.timeout(viaje)\n",
        "      if(indice==3):\n",
        "        try:\n",
        "          self.salida4=self.env.process(self.ventaBoletos(cliente, empresa.bus4))\n",
        "        except simpy.Interrupt:\n",
        "          mu, sigma = 6, 4\n",
        "          viaje = np.random.normal(mu, sigma, 1)\n",
        "          yield self.env.timeout(viaje)\n",
        "          yield self.env.timeout(viaje)\n",
        "      if(indice==4):\n",
        "        try:\n",
        "          self.salida5=self.env.process(self.ventaBoletos(cliente, empresa.bus5))\n",
        "        except simpy.Interrupt:\n",
        "          mu, sigma = 6, 4\n",
        "          viaje = np.random.normal(mu, sigma, 1)\n",
        "          yield self.env.timeout(viaje)\n",
        "          yield self.env.timeout(viaje)\n",
        "      indice+=1\n",
        "      if(indice==5):\n",
        "        indice=0\n",
        "\n",
        "  def __init__(self):\n",
        "    self.env.process(self.llegadaClientes(self.empresa))    \n",
        "    self.env.run(until=self.TIEMPO_SIMULACION)\n",
        "simulacion=Simulacion()"
      ],
      "metadata": {
        "id": "E4bmExH6R8Kc"
      },
      "execution_count": 4,
      "outputs": []
    }
  ]
}